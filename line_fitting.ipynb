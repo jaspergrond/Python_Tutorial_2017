{
 "cells": [
  {
   "cell_type": "code",
   "execution_count": 1,
   "metadata": {
    "collapsed": true
   },
   "outputs": [],
   "source": [
    "import numpy as np\n",
    "import scipy.stats as stats\n",
    "import matplotlib.pyplot as plt\n",
    "%matplotlib inline"
   ]
  },
  {
   "cell_type": "code",
   "execution_count": 2,
   "metadata": {
    "collapsed": false
   },
   "outputs": [
    {
     "name": "stdout",
     "output_type": "stream",
     "text": [
      "[[ 203.  495.]\n",
      " [ 210.  479.]\n",
      " [ 202.  504.]\n",
      " [ 198.  510.]\n",
      " [ 158.  416.]\n",
      " [ 165.  393.]\n",
      " [ 201.  442.]\n",
      " [ 157.  317.]\n",
      " [ 131.  311.]\n",
      " [ 166.  400.]\n",
      " [ 160.  337.]\n",
      " [ 186.  423.]\n",
      " [ 125.  334.]\n",
      " [ 218.  533.]\n",
      " [ 146.  344.]\n",
      " [  50.  300.]\n",
      " [  60.  310.]\n",
      " [  70.  305.]\n",
      " [  80.  304.]\n",
      " [  90.  290.]\n",
      " [ 100.  309.]\n",
      " [ 120.  302.]]\n",
      "[ 203.  210.  202.  198.  158.  165.  201.  157.  131.  166.  160.  186.\n",
      "  125.  218.  146.   50.   60.   70.   80.   90.  100.  120.] [ 495.  479.  504.  510.  416.  393.  442.  317.  311.  400.  337.  423.\n",
      "  334.  533.  344.  300.  310.  305.  304.  290.  309.  302.]\n"
     ]
    }
   ],
   "source": [
    "# https://docs.scipy.org/doc/numpy/reference/routines.random.html\n",
    "# googled \"load text from ascii table python\", second hit\n",
    "data = np.loadtxt(\"data.dat\", skiprows = 2) # we are going to hit the bad rows\n",
    "print data # notice how it is loaded in as a 2D array?\n",
    "x = data[:,0] # numpy ndarray slicing\n",
    "y = data[:,1]\n",
    "print x,y"
   ]
  },
  {
   "cell_type": "code",
   "execution_count": 3,
   "metadata": {
    "collapsed": false
   },
   "outputs": [],
   "source": [
    "x,y = np.loadtxt(\"data.dat\", skiprows = 2, unpack = True) # could have unpacked (maybe show them table comments after)"
   ]
  },
  {
   "cell_type": "code",
   "execution_count": 4,
   "metadata": {
    "collapsed": false
   },
   "outputs": [
    {
     "data": {
      "image/png": "[encoded data removed]",
      "text/plain": [
       "<matplotlib.figure.Figure at 0x7f4ba21385d0>"
      ]
     },
     "metadata": {},
     "output_type": "display_data"
    }
   ],
   "source": [
    "plt.scatter(x,y) # look at data\n",
    "plt.show()\n",
    "plt.close()"
   ]
  },
  {
   "cell_type": "code",
   "execution_count": 5,
   "metadata": {
    "collapsed": true
   },
   "outputs": [],
   "source": [
    "yCut = y[np.where(x>115)] # we can use where to get rid of data we don't want\n",
    "xCut = x[np.where(x>115)]"
   ]
  },
  {
   "cell_type": "code",
   "execution_count": 6,
   "metadata": {
    "collapsed": false
   },
   "outputs": [
    {
     "data": {
      "image/png": "[encoded data removed]",
      "text/plain": [
       "<matplotlib.figure.Figure at 0x7f4b9f9e5550>"
      ]
     },
     "metadata": {},
     "output_type": "display_data"
    }
   ],
   "source": [
    "plt.scatter(xCut,yCut) # yay, good data\n",
    "plt.show()\n",
    "plt.close()"
   ]
  },
  {
   "cell_type": "code",
   "execution_count": 7,
   "metadata": {
    "collapsed": true
   },
   "outputs": [],
   "source": [
    "# https://docs.scipy.org/doc/scipy-0.14.0/reference/generated/scipy.stats.linregress.html\n",
    "# google \"fitting a straight line python\", 4th hit\n",
    "slope, intercept, r_value, p_value, std_err = stats.linregress(xCut,yCut)"
   ]
  },
  {
   "cell_type": "code",
   "execution_count": 8,
   "metadata": {
    "collapsed": false
   },
   "outputs": [
    {
     "data": {
      "image/png": "[encoded data removed]",
      "text/plain": [
       "<matplotlib.figure.Figure at 0x7f4ba214ff90>"
      ]
     },
     "metadata": {},
     "output_type": "display_data"
    }
   ],
   "source": [
    "# make nice plots\n",
    "plt.scatter(xCut,yCut, label = \"data\")\n",
    "fitX = np.linspace(np.min(xCut), np.max(xCut),100)\n",
    "fitY = slope*fitX + intercept\n",
    "plt.plot(fitX, fitY, label = 'fit: $y=$' + str(round(slope,3)) +'$x$' + str(round(intercept,3)))\n",
    "plt.xlabel('$x$')\n",
    "plt.ylabel('$y$')\n",
    "plt.legend(loc = 'upper left')\n",
    "plt.show()\n",
    "plt.close()"
   ]
  }
 ],
 "metadata": {
  "kernelspec": {
   "display_name": "Python 3",
   "language": "python",
   "name": "python3"
  },
  "language_info": {
   "codemirror_mode": {
    "name": "ipython",
    "version": 3
   },
   "file_extension": ".py",
   "mimetype": "text/x-python",
   "name": "python",
   "nbconvert_exporter": "python",
   "pygments_lexer": "ipython3",
   "version": "3.6.0"
  }
 },
 "nbformat": 4,
 "nbformat_minor": 2
}
